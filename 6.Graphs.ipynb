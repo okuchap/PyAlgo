{
 "cells": [
  {
   "cell_type": "markdown",
   "metadata": {
    "toc": "true"
   },
   "source": [
    "# Table of Contents\n",
    " <p><div class=\"lev1\"><a href=\"#Vocabulary-and-Definitions-1\"><span class=\"toc-item-num\">1&nbsp;&nbsp;</span>Vocabulary and Definitions</a></div><div class=\"lev1\"><a href=\"#The-Graph-Abstract-Data-Type-2\"><span class=\"toc-item-num\">2&nbsp;&nbsp;</span>The Graph Abstract Data Type</a></div><div class=\"lev2\"><a href=\"#An-Adjacency-Matrix-2.1\"><span class=\"toc-item-num\">2.1&nbsp;&nbsp;</span>An Adjacency Matrix</a></div><div class=\"lev2\"><a href=\"#An-Adjacency-List-2.2\"><span class=\"toc-item-num\">2.2&nbsp;&nbsp;</span>An Adjacency List</a></div><div class=\"lev1\"><a href=\"#Implementation-3\"><span class=\"toc-item-num\">3&nbsp;&nbsp;</span>Implementation</a></div><div class=\"lev1\"><a href=\"#The-Word-Ladder-Problem-4\"><span class=\"toc-item-num\">4&nbsp;&nbsp;</span>The Word Ladder Problem</a></div><div class=\"lev2\"><a href=\"#Building-the-Word-Ladder-Graph-4.1\"><span class=\"toc-item-num\">4.1&nbsp;&nbsp;</span>Building the Word Ladder Graph</a></div><div class=\"lev2\"><a href=\"#Implementing-Breadth-First-Search-4.2\"><span class=\"toc-item-num\">4.2&nbsp;&nbsp;</span>Implementing Breadth First Search</a></div><div class=\"lev2\"><a href=\"#Breadth-First-Search-Analysis-4.3\"><span class=\"toc-item-num\">4.3&nbsp;&nbsp;</span>Breadth First Search Analysis</a></div><div class=\"lev1\"><a href=\"#The-Knight's-Tour-Problem-5\"><span class=\"toc-item-num\">5&nbsp;&nbsp;</span>The Knight's Tour Problem</a></div><div class=\"lev2\"><a href=\"#Building-the-Knight's-Tour-Graph-5.1\"><span class=\"toc-item-num\">5.1&nbsp;&nbsp;</span>Building the Knight's Tour Graph</a></div><div class=\"lev2\"><a href=\"#Implementing-Knight's-Tour-5.2\"><span class=\"toc-item-num\">5.2&nbsp;&nbsp;</span>Implementing Knight's Tour</a></div><div class=\"lev2\"><a href=\"#Knight's-Tour-Analysis-5.3\"><span class=\"toc-item-num\">5.3&nbsp;&nbsp;</span>Knight's Tour Analysis</a></div><div class=\"lev1\"><a href=\"#General-Depth-First-Search-6\"><span class=\"toc-item-num\">6&nbsp;&nbsp;</span>General Depth First Search</a></div>"
   ]
  },
  {
   "cell_type": "markdown",
   "metadata": {},
   "source": [
    "# Vocabulary and Definitions"
   ]
  },
  {
   "cell_type": "markdown",
   "metadata": {},
   "source": [
    "**Vertex(node), Edge(arc), directed graph(digraph), Weight, Path, Cycle, acyclic graph, DAG(directed acyclic graph)**"
   ]
  },
  {
   "cell_type": "markdown",
   "metadata": {},
   "source": [
    "$$G=(V,E)$$"
   ]
  },
  {
   "cell_type": "markdown",
   "metadata": {},
   "source": [
    "# The Graph Abstract Data Type"
   ]
  },
  {
   "cell_type": "markdown",
   "metadata": {},
   "source": [
    "There are several ways we can implement the graph ADT in Python. We will see that there are trade-offs in using different representations to implement the ADT described above. There are two well-known implementations of a graph, the adjacency matrix and the adjacency list. We will explain both of these options, and then implement one as a Python class."
   ]
  },
  {
   "cell_type": "markdown",
   "metadata": {},
   "source": [
    "## An Adjacency Matrix"
   ]
  },
  {
   "cell_type": "markdown",
   "metadata": {},
   "source": [
    "<img  src=\"adjMat.png\"/>"
   ]
  },
  {
   "cell_type": "markdown",
   "metadata": {},
   "source": [
    "Pros: simple, easy to see\n",
    "\n",
    "Cons: inefficent to store sparse data"
   ]
  },
  {
   "cell_type": "markdown",
   "metadata": {},
   "source": [
    "## An Adjacency List"
   ]
  },
  {
   "cell_type": "markdown",
   "metadata": {},
   "source": [
    "<img  src=\"adjlist.png\"/>"
   ]
  },
  {
   "cell_type": "markdown",
   "metadata": {},
   "source": [
    "space-efficient\n",
    "\n",
    "In our implementation of the Vertex class we will use a dictionary rather than a list where the dictionary keys are the vertices, and the values are the weights."
   ]
  },
  {
   "cell_type": "code",
   "execution_count": 12,
   "metadata": {
    "collapsed": false
   },
   "outputs": [],
   "source": [
    "test = {}\n",
    "test['a'] = 1\n",
    "test['b'] = 2"
   ]
  },
  {
   "cell_type": "code",
   "execution_count": 13,
   "metadata": {
    "collapsed": false
   },
   "outputs": [
    {
     "data": {
      "text/plain": [
       "{'a': 1, 'b': 2}"
      ]
     },
     "execution_count": 13,
     "metadata": {},
     "output_type": "execute_result"
    }
   ],
   "source": [
    "test"
   ]
  },
  {
   "cell_type": "code",
   "execution_count": 14,
   "metadata": {
    "collapsed": false
   },
   "outputs": [
    {
     "data": {
      "text/plain": [
       "dict_keys(['b', 'a'])"
      ]
     },
     "execution_count": 14,
     "metadata": {},
     "output_type": "execute_result"
    }
   ],
   "source": [
    "test.keys()"
   ]
  },
  {
   "cell_type": "markdown",
   "metadata": {},
   "source": [
    "# Implementation"
   ]
  },
  {
   "cell_type": "markdown",
   "metadata": {},
   "source": [
    "We will create two classes, Graph and Vertex."
   ]
  },
  {
   "cell_type": "code",
   "execution_count": 2,
   "metadata": {
    "code_folding": [
     0
    ],
    "collapsed": false
   },
   "outputs": [],
   "source": [
    "    class Vertex:\n",
    "    def __init__(self,key):\n",
    "        self.id = key\n",
    "        self.connectedTo = {}\n",
    "\n",
    "    def addNeighbor(self,nbr,weight=0):\n",
    "        self.connectedTo[nbr] = weight\n",
    "\n",
    "    def __str__(self):\n",
    "        return str(self.id) + ' connectedTo: ' + str([x.id for x in self.connectedTo])\n",
    "\n",
    "    def getConnections(self):\n",
    "        return self.connectedTo.keys()\n",
    "\n",
    "    def getId(self):\n",
    "        return self.id\n",
    "\n",
    "    def getWeight(self,nbr):\n",
    "        return self.connectedTo[nbr]"
   ]
  },
  {
   "cell_type": "code",
   "execution_count": 16,
   "metadata": {
    "code_folding": [
     0
    ],
    "collapsed": true
   },
   "outputs": [],
   "source": [
    "class Graph:\n",
    "    #Note: this is a directed graph\n",
    "    def __init__(self):\n",
    "        self.vertList = {}\n",
    "        self.numVertices = 0\n",
    "\n",
    "    def addVertex(self,key):\n",
    "        self.numVertices = self.numVertices + 1\n",
    "        newVertex = Vertex(key)\n",
    "        self.vertList[key] = newVertex\n",
    "        return newVertex\n",
    "\n",
    "    def getVertex(self,n):\n",
    "        if n in self.vertList[n]:\n",
    "            return self.vertList[n]\n",
    "        else:\n",
    "            return None\n",
    "\n",
    "    def __contains__(self,n):\n",
    "        return n in self.vertList\n",
    "\n",
    "    def addEdge(self,f,t,cost=0):\n",
    "        if f not in self.vertList:\n",
    "            nv = self.addVertex(f)\n",
    "        if t not in self.vertList:\n",
    "            nv = self.addVertex(t)\n",
    "        self.vertList[f].addNeighbor(self.vertList[t], cost)\n",
    "\n",
    "    def getVertices(self):\n",
    "        return self.vertList.keys()\n",
    "\n",
    "    def __iter__(self):\n",
    "        return iter(self.vertList.values())"
   ]
  },
  {
   "cell_type": "code",
   "execution_count": 4,
   "metadata": {
    "collapsed": true
   },
   "outputs": [],
   "source": [
    "g = Graph()"
   ]
  },
  {
   "cell_type": "code",
   "execution_count": 5,
   "metadata": {
    "collapsed": true
   },
   "outputs": [],
   "source": [
    "for i in range(6):\n",
    "    g.addVertex(i)"
   ]
  },
  {
   "cell_type": "code",
   "execution_count": 6,
   "metadata": {
    "collapsed": false,
    "scrolled": true
   },
   "outputs": [
    {
     "data": {
      "text/plain": [
       "{0: <__main__.Vertex at 0x1042e2b38>,\n",
       " 1: <__main__.Vertex at 0x1042e2b70>,\n",
       " 2: <__main__.Vertex at 0x1042e2ba8>,\n",
       " 3: <__main__.Vertex at 0x1042e2be0>,\n",
       " 4: <__main__.Vertex at 0x1042e2c18>,\n",
       " 5: <__main__.Vertex at 0x1042e2c50>}"
      ]
     },
     "execution_count": 6,
     "metadata": {},
     "output_type": "execute_result"
    }
   ],
   "source": [
    "g.vertList"
   ]
  },
  {
   "cell_type": "code",
   "execution_count": 7,
   "metadata": {
    "collapsed": true
   },
   "outputs": [],
   "source": [
    "g.addEdge(0,1,5)"
   ]
  },
  {
   "cell_type": "code",
   "execution_count": 8,
   "metadata": {
    "collapsed": true
   },
   "outputs": [],
   "source": [
    "g.addEdge(0,5,2)\n",
    "g.addEdge(1,2,4)\n",
    "g.addEdge(2,3,9)\n",
    "g.addEdge(3,4,7)\n",
    "g.addEdge(3,5,3)\n",
    "g.addEdge(4,0,1)\n",
    "g.addEdge(5,4,8)\n",
    "g.addEdge(5,2,1)"
   ]
  },
  {
   "cell_type": "markdown",
   "metadata": {},
   "source": [
    "<img  src=\"digraph.png\"/>"
   ]
  },
  {
   "cell_type": "code",
   "execution_count": 15,
   "metadata": {
    "collapsed": false
   },
   "outputs": [
    {
     "name": "stdout",
     "output_type": "stream",
     "text": [
      "(0,5)\n",
      "(0,1)\n",
      "(1,2)\n",
      "(2,3)\n",
      "(3,4)\n",
      "(3,5)\n",
      "(4,0)\n",
      "(5,4)\n",
      "(5,2)\n"
     ]
    }
   ],
   "source": [
    "for v in g:\n",
    "    for w in v.getConnections():\n",
    "        print(\"(%s,%s)\" % (v.getId(),w.getId()))"
   ]
  },
  {
   "cell_type": "markdown",
   "metadata": {},
   "source": [
    "# The Word Ladder Problem"
   ]
  },
  {
   "cell_type": "markdown",
   "metadata": {
    "collapsed": true
   },
   "source": [
    "## Building the Word Ladder Graph"
   ]
  },
  {
   "cell_type": "markdown",
   "metadata": {},
   "source": [
    "<img  src=\"wordgraph.png\"/>"
   ]
  },
  {
   "cell_type": "markdown",
   "metadata": {},
   "source": [
    "How to build a graph given a word list? -> different approaches.\n",
    "\n",
    "* Compare each word in the list with every other\n",
    "    - Works only for a small set of words\n",
    "* Word Buckets\n",
    "    - More efficient"
   ]
  },
  {
   "cell_type": "code",
   "execution_count": 1,
   "metadata": {
    "collapsed": true
   },
   "outputs": [],
   "source": [
    "from pythonds.graphs import Graph"
   ]
  },
  {
   "cell_type": "code",
   "execution_count": 2,
   "metadata": {
    "code_folding": [],
    "collapsed": true
   },
   "outputs": [],
   "source": [
    "def buildGraph(wordFile):\n",
    "    d = {}\n",
    "    g = Graph()\n",
    "    wfile = open(wordFile, 'r')\n",
    "    # create buckets of words that differ by one letter\n",
    "    for line in wfile:\n",
    "        word = line[:-1]\n",
    "        for i in range(len(word)):\n",
    "            bucket = word[:-1] + '_' + word[i+1:]\n",
    "            if bucket in d:\n",
    "                d[bucket].append(word)\n",
    "            else:\n",
    "                d[bucket] = [word]\n",
    "    # add vertices and edges for words in the same bucket\n",
    "    for bucket in d.keys():\n",
    "        for word1 in d[bucket]:\n",
    "            if word1 != word2:\n",
    "                g.addEdge(word1,word2)\n",
    "    return g"
   ]
  },
  {
   "cell_type": "markdown",
   "metadata": {},
   "source": [
    "## Implementing Breadth First Search"
   ]
  },
  {
   "cell_type": "markdown",
   "metadata": {},
   "source": [
    "* BFS: Breadth First Search\n",
    "    - one of the easiest algorithms for searching a graph\n",
    "    - a prototype for several other important graph algorithms\n",
    "\n",
    "One good way to visualize what the breadth first search algorithm does is to imagine that it is building a tree, one level of the tree at a time.\n",
    "\n",
    "We use a *Queue*, a crucial point as we will see, to decide which vertex to explore next.\n",
    "\n",
    "In addition the BFS algorithm uses an *extended version of the Vertex class.* This new vertex class adds three new instance variables: distance, predecessor, and color."
   ]
  },
  {
   "cell_type": "markdown",
   "metadata": {},
   "source": [
    "<img  src=\"bfs1.png\"/>"
   ]
  },
  {
   "cell_type": "markdown",
   "metadata": {},
   "source": [
    "<img  src=\"bfs2.png\"/>"
   ]
  },
  {
   "cell_type": "markdown",
   "metadata": {},
   "source": [
    "<img  src=\"bfs3.png\"/>"
   ]
  },
  {
   "cell_type": "markdown",
   "metadata": {},
   "source": [
    "<img  src=\"bfsDone.png\"/>"
   ]
  },
  {
   "cell_type": "code",
   "execution_count": 3,
   "metadata": {
    "collapsed": true
   },
   "outputs": [],
   "source": [
    "from pythonds.graphs import Graph, Vertex\n",
    "from pythonds.basic import Queue"
   ]
  },
  {
   "cell_type": "code",
   "execution_count": 4,
   "metadata": {
    "code_folding": [],
    "collapsed": true
   },
   "outputs": [],
   "source": [
    "def bfs(g,start):\n",
    "    start.setDistance(0)\n",
    "    start.setPred(None)\n",
    "    vertQueue = Queue()\n",
    "    vertQueue.enqueue(start)\n",
    "    while (vertQueue.size() > 0):\n",
    "        currentVert = vertQueue.dequeue()\n",
    "        for nbr in currentVert.getConnections():\n",
    "            if (nbr.getColor() == 'white'):\n",
    "                nbr.setColor('grey')\n",
    "                nbr.setDistance(currentVert.getDistance() + 1)\n",
    "                nbr.setPred(currentVert)\n",
    "                vertQueue.enqueue(nbr)\n",
    "        currentVert.setColor('black')"
   ]
  },
  {
   "cell_type": "markdown",
   "metadata": {},
   "source": [
    "## Breadth First Search Analysis"
   ]
  },
  {
   "cell_type": "markdown",
   "metadata": {},
   "source": [
    "While loop: $O(V)$\n",
    "For loop: $O(E)$\n",
    "Therefore,\n",
    "$$O(V+E)$$"
   ]
  },
  {
   "cell_type": "markdown",
   "metadata": {},
   "source": [
    "# The Knight's Tour Problem"
   ]
  },
  {
   "cell_type": "markdown",
   "metadata": {
    "collapsed": true
   },
   "source": [
    "The knight’s tour puzzle is played on a chess board with a single chess piece, the knight. The object of the puzzle is **to find a sequence of moves that allow the knight to visit every square on the board exactly once.** One such sequence is called a “tour.”\n",
    "\n",
    "We will solve the problem using two main steps:\n",
    "\n",
    "* Represent the legal moves of a knight on a chessboard as a graph.\n",
    "* Use a graph algorithm to find a path of length $rows * columns −1$ where every vertex on the graph is visited exactly once."
   ]
  },
  {
   "cell_type": "markdown",
   "metadata": {},
   "source": [
    "## Building the Knight's Tour Graph"
   ]
  },
  {
   "cell_type": "markdown",
   "metadata": {},
   "source": [
    "We will use the following two ideas:\n",
    "* Each square on the chessboard can be represented as a node in the graph.\n",
    "* Each legal move by the knight can be represented as an edge in the graph."
   ]
  },
  {
   "cell_type": "code",
   "execution_count": 1,
   "metadata": {
    "collapsed": true
   },
   "outputs": [],
   "source": [
    "def knightGraph(bdDize):\n",
    "    #makes one pass over the entire board, helper function\n",
    "    ktGraph = Graph()\n",
    "    for row in range(bdSize):\n",
    "        for col in range(bdSize):\n",
    "            nodeId = posToNodeId(row,col,bdSize)\n",
    "            newPositions = genLegalMoves(row,col,bdSize)\n",
    "            for e in newPositions:\n",
    "                nid = posToNodeId(e[0],e[1],bdSize)\n",
    "                ktGraph.addEdge(nodeId,nid)\n",
    "    return ktGraph\n",
    "\n",
    "def posToNodeId(row,column,board_size):\n",
    "    return (row * board_size) + column\n",
    "\n",
    "def genLegalMoves(x,y,bdSize):\n",
    "    newMoves = []\n",
    "    moveOffsets = [(-1,-2),(-1,2),(-2,-1),(-2,1),(1,-2),(1,2),(2,-1),(2,1)]\n",
    "    for i in moveOffsets:\n",
    "        newX = x + i[0]\n",
    "        newY = y + i[1]\n",
    "        if legalCoord(newX,bdSize) and legalCoord(newY,bdSize):\n",
    "            newMoves.append((newX,newY))\n",
    "    return newMoves\n",
    "\n",
    "def legalCoord(x,bdSize):\n",
    "    if x >= 0 and x < bdSize:\n",
    "        return True\n",
    "    else:\n",
    "        return False"
   ]
  },
  {
   "cell_type": "markdown",
   "metadata": {},
   "source": [
    "<img  src=\"knightmoves.png\"/>"
   ]
  },
  {
   "cell_type": "markdown",
   "metadata": {},
   "source": [
    "<img  src=\"bigknight.png\"/>"
   ]
  },
  {
   "cell_type": "markdown",
   "metadata": {},
   "source": [
    "## Implementing Knight's Tour"
   ]
  },
  {
   "cell_type": "markdown",
   "metadata": {},
   "source": [
    "**Depth First Search(DFS)**\n",
    "\n",
    "In this section we will look at two algorithms that implement a depth first search.\n",
    "* The first algorithm we will look at directly solves the knight’s tour problem **by explicitly forbidding a node to be visited more than once.**\n",
    "* The second implementation is **more general**, but allows nodes to be visited more than once as the tree is constructed. The second version is used in subsequent sections to develop additional graph algorithms.\n",
    "\n"
   ]
  },
  {
   "cell_type": "code",
   "execution_count": 2,
   "metadata": {
    "collapsed": true
   },
   "outputs": [],
   "source": [
    "from pythonds.graphs import Graph, Vertex\n",
    "def knightTour(n,path,u,limit):\n",
    "    #n:current depth, path:a list of vertices visited up to this point\n",
    "    #u: the vertex in the graph we wish to explore, limit: the number of nodes in the path\n",
    "    u.setColor('gray')\n",
    "    path.append(u)\n",
    "    if n < limit:\n",
    "        nbrList = list(u.getConnections())\n",
    "        i = 0\n",
    "        done = False\n",
    "        while i < len(nbrList) and not done:\n",
    "            if nbrList[i].getColor() == 'white':\n",
    "                done = knightTour(n+1, path, nbrList[i], limit)\n",
    "            i = i+1\n",
    "        if not done: # prepare to backtrack\n",
    "            path.pop()\n",
    "            u.setColor('white')\n",
    "    else:\n",
    "        done = True\n",
    "    return done"
   ]
  },
  {
   "cell_type": "markdown",
   "metadata": {},
   "source": [
    "## Knight's Tour Analysis"
   ]
  },
  {
   "cell_type": "markdown",
   "metadata": {},
   "source": [
    "The knight’s tour problem as we have implemented it so far is an exponential algorithm of size $O(k^N)$"
   ]
  },
  {
   "cell_type": "markdown",
   "metadata": {},
   "source": [
    "<img  src=\"8arrayTree.png\"/>"
   ]
  },
  {
   "cell_type": "markdown",
   "metadata": {},
   "source": [
    "There is a way to speed up the eight-by-eight case so that it runs in under one second.\n",
    "\n",
    "The point is that we select the vertex to go next that has the fewest available moves.(Heuristic approach)"
   ]
  },
  {
   "cell_type": "code",
   "execution_count": 3,
   "metadata": {
    "collapsed": true
   },
   "outputs": [],
   "source": [
    "def orderByAvail(n):\n",
    "    resList = []\n",
    "    for v in n.getConnections():\n",
    "        if v.getColor() == 'white':\n",
    "            c = 0\n",
    "            for w in v.getConnections():\n",
    "                if w.getColor() == 'white':\n",
    "                    c = c + 1\n",
    "            resList.append((c,v))\n",
    "    resList.sort(key=lambda x: x[0])\n",
    "    return [y[1] for y in resList]"
   ]
  },
  {
   "cell_type": "code",
   "execution_count": 11,
   "metadata": {
    "collapsed": false
   },
   "outputs": [],
   "source": [
    "test = [(2,'b'),(1,'a'),(4,'d'),(3,'c')]"
   ]
  },
  {
   "cell_type": "code",
   "execution_count": 9,
   "metadata": {
    "collapsed": false
   },
   "outputs": [],
   "source": [
    "test.sort(key=lambda x:x[0])"
   ]
  },
  {
   "cell_type": "code",
   "execution_count": 10,
   "metadata": {
    "collapsed": false
   },
   "outputs": [
    {
     "data": {
      "text/plain": [
       "[(1, 'a'), (2, 'b'), (3, 'c'), (4, 'd')]"
      ]
     },
     "execution_count": 10,
     "metadata": {},
     "output_type": "execute_result"
    }
   ],
   "source": [
    "test"
   ]
  },
  {
   "cell_type": "code",
   "execution_count": 15,
   "metadata": {
    "collapsed": true
   },
   "outputs": [],
   "source": [
    "test = [(2,'cat'),(1,'dog'),(4,'apple'),(3,'banana')]"
   ]
  },
  {
   "cell_type": "code",
   "execution_count": 16,
   "metadata": {
    "collapsed": true
   },
   "outputs": [],
   "source": [
    "test.sort()"
   ]
  },
  {
   "cell_type": "code",
   "execution_count": 17,
   "metadata": {
    "collapsed": false
   },
   "outputs": [
    {
     "data": {
      "text/plain": [
       "[(1, 'dog'), (2, 'cat'), (3, 'banana'), (4, 'apple')]"
      ]
     },
     "execution_count": 17,
     "metadata": {},
     "output_type": "execute_result"
    }
   ],
   "source": [
    "test"
   ]
  },
  {
   "cell_type": "code",
   "execution_count": 18,
   "metadata": {
    "collapsed": true
   },
   "outputs": [],
   "source": [
    "test = [(2,'cat'),(1,'dog'),(4,'apple'),(3,'banana')]"
   ]
  },
  {
   "cell_type": "code",
   "execution_count": 19,
   "metadata": {
    "collapsed": true
   },
   "outputs": [],
   "source": [
    "test.sort(key=lambda x:x[1])"
   ]
  },
  {
   "cell_type": "code",
   "execution_count": 20,
   "metadata": {
    "collapsed": false
   },
   "outputs": [
    {
     "data": {
      "text/plain": [
       "[(4, 'apple'), (3, 'banana'), (2, 'cat'), (1, 'dog')]"
      ]
     },
     "execution_count": 20,
     "metadata": {},
     "output_type": "execute_result"
    }
   ],
   "source": [
    "test"
   ]
  },
  {
   "cell_type": "markdown",
   "metadata": {},
   "source": [
    "# General Depth First Search"
   ]
  },
  {
   "cell_type": "markdown",
   "metadata": {},
   "source": [
    "The knight’s tour is a special case of a depth first search where the goal is to create the deepest depth first tree, without any branches. The more general depth first search is actually easier. Its goal is to search as deeply as possible, connecting as many nodes in the graph as possible and branching where necessary.\n",
    "\n",
    "It is even possible that a depth first search will create more than one tree. When the depth first search algorithm creates a group of trees we call this a **depth first forest**."
   ]
  },
  {
   "cell_type": "code",
   "execution_count": 2,
   "metadata": {
    "collapsed": false
   },
   "outputs": [],
   "source": [
    "from pythonds.graphs import Graph\n",
    "class DFSGraph(Graph):\n",
    "    def __init__(self):\n",
    "        # adding a time instance variable\n",
    "        super().__init__()\n",
    "        self.time = 0\n",
    "\n",
    "    def dfs(self):\n",
    "        for aVertex in self:\n",
    "            aVertex.setColor('white')\n",
    "            aVertex.setPred(-1)\n",
    "        for aVertex in self:\n",
    "            if aVertex.getColor() == 'white':\n",
    "                self.dfsvisit(aVertex)\n",
    "                \n",
    "    def dfsvisit(self,startVertex):\n",
    "        startVertex.setColor('gray')\n",
    "        self.time += 1\n",
    "        startVertex.setDiscovery(self.time)\n",
    "        for nextVertex in startVertex.getConnections():\n",
    "            if nextVertex.getColor() == 'white':\n",
    "                nextVertex.setPred(startVertex)\n",
    "                self.dfsvisit(nextVertex)\n",
    "        startVertex.setColor('black')\n",
    "        self.time += 1\n",
    "        startVertex.setFinish(self.time)"
   ]
  },
  {
   "cell_type": "code",
   "execution_count": null,
   "metadata": {
    "collapsed": true
   },
   "outputs": [],
   "source": []
  }
 ],
 "metadata": {
  "kernelspec": {
   "display_name": "Python 3",
   "language": "python",
   "name": "python3"
  },
  "language_info": {
   "codemirror_mode": {
    "name": "ipython",
    "version": 3
   },
   "file_extension": ".py",
   "mimetype": "text/x-python",
   "name": "python",
   "nbconvert_exporter": "python",
   "pygments_lexer": "ipython3",
   "version": "3.4.3"
  },
  "toc": {
   "toc_cell": true,
   "toc_number_sections": true,
   "toc_threshold": 6,
   "toc_window_display": false
  }
 },
 "nbformat": 4,
 "nbformat_minor": 0
}
